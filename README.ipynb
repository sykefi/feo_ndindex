{
 "cells": [
  {
   "cell_type": "raw",
   "id": "4469594a",
   "metadata": {},
   "source": [
    "---\n",
    "title: \"Yearly gap-free Sentinel-2 image index mosaics\"\n",
    "format: gfm\n",
    "jupyter: python3\n",
    "---"
   ]
  },
  {
   "cell_type": "markdown",
   "id": "872bc298",
   "metadata": {},
   "source": [
    "Scripts presented here are used to generate yearly gap-free Sentinel-2 image index mosaics by further processing S2ind-mosaics [https://ckan.ymparisto.fi/dataset/sentinel-2-image-index-mosaics-s2ind-sentinel-2-kuvamosaiikit-s2ind](https://ckan.ymparisto.fi/dataset/sentinel-2-image-index-mosaics-s2ind-sentinel-2-kuvamosaiikit-s2ind) for the full months. For a single index, the following mosaics are produced:\n",
    "\n",
    "* Yearly maximum value\n",
    "* Yearly minimum value\n",
    "* Yearly mean\n",
    "* Yearly median\n",
    "* Yearly amplitude (pixelwise maximum - median of April, May and October for the full time period)\n",
    "* Yearly sum\n",
    "* Monthly mosaics for April, May, June, July, August, September and October\n",
    "\n",
    "These mosaics are not produced at once, but S2ind mosaics are first tiled into a 12x8 grid, which are again combined after the processing. During processing, all nodata values are ignored. The processing steps are the following:\n",
    "\n",
    "1. Two base mosaics are constructed, one for spring and one for autumn. The values for these mosaics are median values of all available data (2016 to 2021). Spring mosaic is constructed from dates between 1.4. and 31.5., while the autumn mosaic is constructed from dates between 15.9. and 31.10.\n",
    "2. All gaps in mosaics are filled with the maximum value of the same month and pixel from two previous years\n",
    "3. `rasterio.fill.fillnodata` is applied to mosaics, with maximum search distance of 100 and three iterations\n",
    "4. All remaining nodata for April and May mosaics are filled with corresponding values from the base spring mosaic\n",
    "5. All remaining nodata for October are filled with corresponding values from the base autumn mosaic\n",
    "6. All remaining nodata for August are filled with the mean value of July and September of the same year\n",
    "7. Yearly statistics are collated\n",
    "8. All produced mosaics are clipped to Finnish borders\n",
    "\n",
    "Nodatavalues are 0 for other indices than NDBI, where nodatavalue is 255. Due to incorrect behavior with other nodatavalues than zero, step 3 is not performed for NDBI.\n",
    "\n",
    "The pixel size for the dataset is 10m. Datatype is unsigned 8 bit integer for all mosaics except yearly sum, whose datatype is unsigned 16bit integer. "
   ]
  },
  {
   "cell_type": "markdown",
   "id": "2cfd2f6d",
   "metadata": {},
   "source": [
    "## Installation"
   ]
  },
  {
   "cell_type": "markdown",
   "id": "79e726a8",
   "metadata": {},
   "source": [
    "Install [miniconda](https://docs.conda.io/en/main/miniconda.html) and run\n",
    "\n",
    "```bash\n",
    "conda env create -f environment.yml \n",
    "```"
   ]
  },
  {
   "cell_type": "markdown",
   "id": "1016034d",
   "metadata": {},
   "source": [
    "## Usage"
   ]
  },
  {
   "cell_type": "markdown",
   "id": "f40d8052",
   "metadata": {},
   "source": [
    "Example on the workflow is provided in [Processing_flow.ipynb](Processing_flow.ipynb). Also, provided that you have all of the PTA-mosaics on your own machine `process_files.py` runs the whole processing chain for them. "
   ]
  }
 ],
 "metadata": {
  "kernelspec": {
   "display_name": "Python 3 (ipykernel)",
   "language": "python",
   "name": "python3"
  },
  "language_info": {
   "codemirror_mode": {
    "name": "ipython",
    "version": 3
   },
   "file_extension": ".py",
   "mimetype": "text/x-python",
   "name": "python",
   "nbconvert_exporter": "python",
   "pygments_lexer": "ipython3",
   "version": "3.9.13"
  },
  "latex_envs": {
   "LaTeX_envs_menu_present": true,
   "autoclose": false,
   "autocomplete": true,
   "bibliofile": "biblio.bib",
   "cite_by": "apalike",
   "current_citInitial": 1,
   "eqLabelWithNumbers": true,
   "eqNumInitial": 1,
   "hotkeys": {
    "equation": "Ctrl-E",
    "itemize": "Ctrl-I"
   },
   "labels_anchors": false,
   "latex_user_defs": false,
   "report_style_numbering": false,
   "user_envs_cfg": false
  },
  "toc": {
   "base_numbering": 1,
   "nav_menu": {},
   "number_sections": true,
   "sideBar": true,
   "skip_h1_title": false,
   "title_cell": "Table of Contents",
   "title_sidebar": "Contents",
   "toc_cell": false,
   "toc_position": {},
   "toc_section_display": true,
   "toc_window_display": false
  },
  "vscode": {
   "interpreter": {
    "hash": "dda052d61230f5d744ac7e4c632c6428d2bf5f1154d01083f7ce1a879789cee6"
   }
  }
 },
 "nbformat": 4,
 "nbformat_minor": 5
}
